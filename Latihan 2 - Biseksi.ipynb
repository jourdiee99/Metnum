{
 "cells": [
  {
   "cell_type": "markdown",
   "metadata": {},
   "source": [
    "# Import Library"
   ]
  },
  {
   "cell_type": "code",
   "execution_count": 1,
   "metadata": {},
   "outputs": [],
   "source": [
    "import numpy as np\n",
    "import matplotlib.pyplot as plt\n",
    "import math"
   ]
  },
  {
   "cell_type": "markdown",
   "metadata": {},
   "source": [
    "# Soal (Biseksi) :\n",
    "### f(x) = 1/2 x e^(x(1/2)) - 2\n",
    "### xi = 1, xu = 2, Es = 0.01%"
   ]
  },
  {
   "cell_type": "markdown",
   "metadata": {},
   "source": [
    "# Algoritma"
   ]
  },
  {
   "cell_type": "markdown",
   "metadata": {},
   "source": [
    "Deklarasi "
   ]
  },
  {
   "cell_type": "code",
   "execution_count": 2,
   "metadata": {},
   "outputs": [],
   "source": [
    "xi = 1\n",
    "xu = 2\n",
    "xr = (xi+xu)/2\n",
    "es = 0.01\n",
    "ea = 100\n",
    "xrArr = []\n",
    "errorArr = []"
   ]
  },
  {
   "cell_type": "code",
   "execution_count": 3,
   "metadata": {},
   "outputs": [],
   "source": [
    "def biseksi(x):\n",
    "    x = float(x)\n",
    "    hasil = 0.5 * (x * math.exp(1) ** x ** 0.5) - 2\n",
    "    return hasil"
   ]
  },
  {
   "cell_type": "markdown",
   "metadata": {},
   "source": [
    "Evaluasi sub interval"
   ]
  },
  {
   "cell_type": "code",
   "execution_count": 4,
   "metadata": {},
   "outputs": [],
   "source": [
    "def evaluate(xi, xu, xr, es, ea, xrArr, errorArr):\n",
    "    \n",
    "    i = 0\n",
    "    while ea > es:\n",
    "        xr = (xi+xu)/2\n",
    "        fxi = biseksi(xi)\n",
    "        fxu = biseksi(xu)\n",
    "        fxr = biseksi(xr)\n",
    "        \n",
    "        print(\"iterasi ke = {}\".format(i))\n",
    "        print(\"xi = {}\".format(xi))\n",
    "        print(\"xu = {}\".format(xu))\n",
    "        print(\"xr = {}\".format(xr))\n",
    "        print(\"fxi = {}\".format(fxi))\n",
    "        print(\"fxu = {}\".format(fxu))\n",
    "        print(\"fxr = {}\".format(fxr))\n",
    "        print(\"ea = {}\".format(ea))\n",
    "        print()\n",
    "        i += 1\n",
    "        if fxi * fxr < 0 :\n",
    "            xu = xr\n",
    "        if fxi * fxr > 0 :\n",
    "            xi = xr\n",
    "        nxr = (xi+xu)/2  \n",
    "        ea = abs((nxr-xr)/nxr * 100)\n",
    "        xrArr.append(xr)\n",
    "        errorArr.append(ea)\n",
    "    \n",
    "    print(xrArr)\n",
    "    print(errorArr)"
   ]
  },
  {
   "cell_type": "code",
   "execution_count": 5,
   "metadata": {},
   "outputs": [
    {
     "name": "stdout",
     "output_type": "stream",
     "text": [
      "iterasi ke = 0\n",
      "xi = 1\n",
      "xu = 2\n",
      "xr = 1.5\n",
      "fxi = -0.6408590857704775\n",
      "fxu = 2.1132503787829275\n",
      "fxr = 0.5524732700616344\n",
      "ea = 100\n",
      "\n",
      "iterasi ke = 1\n",
      "xi = 1\n",
      "xu = 1.5\n",
      "xr = 1.25\n",
      "fxi = -0.6408590857704775\n",
      "fxu = 0.5524732700616344\n",
      "fxr = -0.08822838455797166\n",
      "ea = 20.0\n",
      "\n",
      "iterasi ke = 2\n",
      "xi = 1.25\n",
      "xu = 1.5\n",
      "xr = 1.375\n",
      "fxi = -0.08822838455797166\n",
      "fxu = 0.5524732700616344\n",
      "fxr = 0.2208954946411268\n",
      "ea = 9.090909090909092\n",
      "\n",
      "iterasi ke = 3\n",
      "xi = 1.25\n",
      "xu = 1.375\n",
      "xr = 1.3125\n",
      "fxi = -0.08822838455797166\n",
      "fxu = 0.2208954946411268\n",
      "fxr = 0.06355548506697639\n",
      "ea = 4.761904761904762\n",
      "\n",
      "iterasi ke = 4\n",
      "xi = 1.25\n",
      "xu = 1.3125\n",
      "xr = 1.28125\n",
      "fxi = -0.08822838455797166\n",
      "fxu = 0.06355548506697639\n",
      "fxr = -0.013027495832037772\n",
      "ea = 2.4390243902439024\n",
      "\n",
      "iterasi ke = 5\n",
      "xi = 1.28125\n",
      "xu = 1.3125\n",
      "xr = 1.296875\n",
      "fxi = -0.013027495832037772\n",
      "fxu = 0.06355548506697639\n",
      "fxr = 0.02509080447667289\n",
      "ea = 1.2048192771084338\n",
      "\n",
      "iterasi ke = 6\n",
      "xi = 1.28125\n",
      "xu = 1.296875\n",
      "xr = 1.2890625\n",
      "fxi = -0.013027495832037772\n",
      "fxu = 0.02509080447667289\n",
      "fxr = 0.005988410705151992\n",
      "ea = 0.6060606060606061\n",
      "\n",
      "iterasi ke = 7\n",
      "xi = 1.28125\n",
      "xu = 1.2890625\n",
      "xr = 1.28515625\n",
      "fxi = -0.013027495832037772\n",
      "fxu = 0.005988410705151992\n",
      "fxr = -0.0035303467574510083\n",
      "ea = 0.303951367781155\n",
      "\n",
      "iterasi ke = 8\n",
      "xi = 1.28515625\n",
      "xu = 1.2890625\n",
      "xr = 1.287109375\n",
      "fxi = -0.0035303467574510083\n",
      "fxu = 0.005988410705151992\n",
      "fxr = 0.0012263300878894157\n",
      "ea = 0.15174506828528073\n",
      "\n",
      "iterasi ke = 9\n",
      "xi = 1.28515625\n",
      "xu = 1.287109375\n",
      "xr = 1.2861328125\n",
      "fxi = -0.0035303467574510083\n",
      "fxu = 0.0012263300878894157\n",
      "fxr = -0.0011526837015054525\n",
      "ea = 0.07593014426727411\n",
      "\n",
      "iterasi ke = 10\n",
      "xi = 1.2861328125\n",
      "xu = 1.287109375\n",
      "xr = 1.28662109375\n",
      "fxi = -0.0011526837015054525\n",
      "fxu = 0.0012263300878894157\n",
      "fxr = 3.665433842003907e-05\n",
      "ea = 0.03795066413662239\n",
      "\n",
      "iterasi ke = 11\n",
      "xi = 1.2861328125\n",
      "xu = 1.28662109375\n",
      "xr = 1.286376953125\n",
      "fxi = -0.0011526837015054525\n",
      "fxu = 3.665433842003907e-05\n",
      "fxr = -0.0005580568935990016\n",
      "ea = 0.01897893338394382\n",
      "\n",
      "[1.5, 1.25, 1.375, 1.3125, 1.28125, 1.296875, 1.2890625, 1.28515625, 1.287109375, 1.2861328125, 1.28662109375, 1.286376953125]\n",
      "[20.0, 9.090909090909092, 4.761904761904762, 2.4390243902439024, 1.2048192771084338, 0.6060606060606061, 0.303951367781155, 0.15174506828528073, 0.07593014426727411, 0.03795066413662239, 0.01897893338394382, 0.00948856627763545]\n"
     ]
    }
   ],
   "source": [
    "evaluate(xi, xu, xr, es, ea, xrArr, errorArr)"
   ]
  },
  {
   "cell_type": "markdown",
   "metadata": {},
   "source": [
    "# Plotting"
   ]
  },
  {
   "cell_type": "code",
   "execution_count": 6,
   "metadata": {},
   "outputs": [
    {
     "data": {
      "image/png": "[encoded data removed]",
      "text/plain": [
       "<Figure size 432x288 with 2 Axes>"
      ]
     },
     "metadata": {
      "needs_background": "light"
     },
     "output_type": "display_data"
    }
   ],
   "source": [
    "plt.subplot(211)\n",
    "plt.plot(xrArr, 'bo', color ='blue', linestyle ='solid', linewidth =2)\n",
    "plt.ylabel('Xr')\n",
    "plt.title('Akar persamaan Biseksi : f(x) = 1/2xE^(X^1/2) - 2')\n",
    "\n",
    "plt.subplot(212)\n",
    "plt.plot(errorArr, 'bo', color ='red', linestyle ='dashed', linewidth =2)\n",
    "plt.xlabel('Iterasi')\n",
    "plt.ylabel('Error Rate (%)')\n",
    "\n",
    "plt.show()"
   ]
  },
  {
   "cell_type": "code",
   "execution_count": null,
   "metadata": {},
   "outputs": [],
   "source": []
  }
 ],
 "metadata": {
  "kernelspec": {
   "display_name": "Python 3",
   "language": "python",
   "name": "python3"
  },
  "language_info": {
   "codemirror_mode": {
    "name": "ipython",
    "version": 3
   },
   "file_extension": ".py",
   "mimetype": "text/x-python",
   "name": "python",
   "nbconvert_exporter": "python",
   "pygments_lexer": "ipython3",
   "version": "3.8.3"
  }
 },
 "nbformat": 4,
 "nbformat_minor": 4
}
